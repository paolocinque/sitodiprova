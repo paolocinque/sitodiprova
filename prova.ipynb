{
 "cells": [
  {
   "cell_type": "code",
   "execution_count": null,
   "id": "a7debfea",
   "metadata": {},
   "outputs": [],
   "source": [
    "from flask import Flask, render_template, request\n",
    "\n",
    "app = Flask(__name__)\n",
    "\n",
    "@app.route('/')\n",
    "def menuatendina():\n",
    "    return render_template('menuatendina.html')\n",
    "\n",
    "@app.route('/calcola', methods=['POST'])\n",
    "def calcola_risultato():\n",
    "    periodo = request.form['periodo']  # Get the 'periodo' value from the form\n",
    "    tipologia = request.form['tipologia']  # Get the 'tipologia' value from the form\n",
    "    zona_geografica = request.form['zona_geografica']  # Get the 'zona_geografica' value from the form\n",
    "\n",
    "    if periodo == 'marzo':\n",
    "        periodo == 10   \n",
    "    else:\n",
    "        periodo == 0\n",
    "                          \n",
    "    if tipologia == 'acacia':\n",
    "        tipologia == 2\n",
    "    else:\n",
    "        tipologia == 0\n",
    "        \n",
    "    if zona_geografica == 'sud':\n",
    "        zona_geografica == 2 \n",
    "    else:\n",
    "        zona_geografica == 0\n",
    "    \n",
    "    prezzo == periodo + tipologia + zona_geografica\n",
    "    \n",
    "    return render_template ('prezzo_polizza.html')\n",
    "    "
   ]
  },
  {
   "cell_type": "code",
   "execution_count": null,
   "id": "db99b5fa",
   "metadata": {},
   "outputs": [],
   "source": []
  }
 ],
 "metadata": {
  "kernelspec": {
   "display_name": "Python 3 (ipykernel)",
   "language": "python",
   "name": "python3"
  },
  "language_info": {
   "codemirror_mode": {
    "name": "ipython",
    "version": 3
   },
   "file_extension": ".py",
   "mimetype": "text/x-python",
   "name": "python",
   "nbconvert_exporter": "python",
   "pygments_lexer": "ipython3",
   "version": "3.10.9"
  }
 },
 "nbformat": 4,
 "nbformat_minor": 5
}
