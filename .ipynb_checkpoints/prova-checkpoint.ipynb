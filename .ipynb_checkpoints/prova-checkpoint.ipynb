{
 "cells": [
  {
   "cell_type": "code",
   "execution_count": null,
   "id": "0cd79459",
   "metadata": {},
   "outputs": [],
   "source": [
    "from flask import Flask, render_template, request\n",
    "\n",
    "app = Flask(__name__)\n",
    "\n",
    "@app.route('/')\n",
    "def menuatendina():\n",
    "    return render_template('menuatendina.html')\n",
    "\n",
    "@app.route('/calcola', methods=['POST'])\n",
    "def calcola_risultato():\n",
    "    periodo = int(request.form['Periodo di Copertura'])  # Get the 'periodo' value from the form\n",
    "    tipologia = int(request.form['Tipologia Miele'])  # Get the 'tipologia' value from the form\n",
    "    zona_geografica = int(request.form['Area Geografica'])  # Get the 'zona_geografica' value from the form\n",
    "    prezzo == periodo + tipologia + zona_geografica\n",
    "    \n",
    "    return render_template ('calcola.html')\n",
    "    "
   ]
  },
  {
   "cell_type": "code",
   "execution_count": null,
   "id": "26ed9da4",
   "metadata": {},
   "outputs": [],
   "source": []
  }
 ],
 "metadata": {
  "kernelspec": {
   "display_name": "Python 3 (ipykernel)",
   "language": "python",
   "name": "python3"
  },
  "language_info": {
   "codemirror_mode": {
    "name": "ipython",
    "version": 3
   },
   "file_extension": ".py",
   "mimetype": "text/x-python",
   "name": "python",
   "nbconvert_exporter": "python",
   "pygments_lexer": "ipython3",
   "version": "3.10.9"
  }
 },
 "nbformat": 4,
 "nbformat_minor": 5
}
